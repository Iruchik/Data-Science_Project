{
 "cells": [
  {
   "cell_type": "code",
   "execution_count": null,
   "metadata": {},
   "outputs": [],
   "source": [
    "Завдання 2\n",
    "Вивести курс за останній рік лише по понеділках (https://bank.gov.ua/ua/open-data/api-dev)\n",
    "відобразити динаміку з допомогою мат плот ліб, та також побудувати лінію тренду"
   ]
  },
  {
   "cell_type": "code",
   "execution_count": 15,
   "metadata": {},
   "outputs": [
    {
     "name": "stdout",
     "output_type": "stream",
     "text": [
      "З початку року 316 днів\n"
     ]
    }
   ],
   "source": [
    "import datetime\n",
    "import requests\n",
    "from matplotlib import pyplot as plt\n",
    "import seaborn as sns\n",
    "import numpy as np\n",
    "import pandas as pd\n",
    "from sklearn.linear_model import LinearRegression\n",
    "\n",
    "today = datetime.date.today()\n",
    "new_year = datetime.date(2020, 1, 1)\n",
    "delta = today - new_year\n",
    "print(f'З початку року {delta.days} днів')"
   ]
  },
  {
   "cell_type": "code",
   "execution_count": 12,
   "metadata": {},
   "outputs": [],
   "source": [
    "list_with_values = {}\n",
    "s = 1\n",
    "for i in range(delta.days + 1):\n",
    "    tmp_date = new_year + datetime.timedelta(days = i)\n",
    "    if tmp_date.weekday() == 0:\n",
    "        par = {'valcode': 'USD', 'date': tmp_date.strftime('%Y%m%d')}\n",
    "        req = requests.get('https://bank.gov.ua/NBUStatService/v1/statdirectory/exchange?json', params = par).json()\n",
    "        list_with_values[s] = req[0]['rate']\n",
    "        s += 1"
   ]
  },
  {
   "cell_type": "code",
   "execution_count": 13,
   "metadata": {},
   "outputs": [
    {
     "data": {
      "text/plain": [
       "{1: 23.6862,\n",
       " 2: 23.9677,\n",
       " 3: 24.2527,\n",
       " 4: 24.3301,\n",
       " 5: 25.0294,\n",
       " 6: 24.537,\n",
       " 7: 24.447,\n",
       " 8: 24.453,\n",
       " 9: 24.59,\n",
       " 10: 24.7413,\n",
       " 11: 26.089,\n",
       " 12: 27.7386,\n",
       " 13: 28.183,\n",
       " 14: 27.373,\n",
       " 15: 27.2022,\n",
       " 16: 27.2022,\n",
       " 17: 27.1441,\n",
       " 18: 26.9592,\n",
       " 19: 26.8185,\n",
       " 20: 26.638,\n",
       " 21: 26.7556,\n",
       " 22: 26.8685,\n",
       " 23: 26.6953,\n",
       " 24: 26.7303,\n",
       " 25: 26.7207,\n",
       " 26: 26.7002,\n",
       " 27: 27.1716,\n",
       " 28: 26.9505,\n",
       " 29: 27.3606,\n",
       " 30: 27.7559,\n",
       " 31: 27.6798,\n",
       " 32: 27.6486,\n",
       " 33: 27.3474,\n",
       " 34: 27.4812,\n",
       " 35: 27.4759,\n",
       " 36: 27.7325,\n",
       " 37: 27.9003,\n",
       " 38: 28.1718,\n",
       " 39: 28.2673,\n",
       " 40: 28.3408,\n",
       " 41: 28.2098,\n",
       " 42: 28.3649,\n",
       " 43: 28.2911,\n",
       " 44: 28.4507,\n",
       " 45: 28.1375}"
      ]
     },
     "execution_count": 13,
     "metadata": {},
     "output_type": "execute_result"
    }
   ],
   "source": [
    "list_with_values"
   ]
  },
  {
   "cell_type": "code",
   "execution_count": 14,
   "metadata": {},
   "outputs": [
    {
     "data": {
      "image/png": "[encoded data removed]",
      "text/plain": [
       "<Figure size 432x288 with 1 Axes>"
      ]
     },
     "metadata": {
      "needs_background": "light"
     },
     "output_type": "display_data"
    }
   ],
   "source": [
    "ax = plt.subplot()\n",
    "ax.set_xlabel('Value of Mondays', fontsize = 15)\n",
    "ax.set_ylabel('Rate', fontsize = 15)\n",
    "plt.grid()\n",
    "for i in list_with_values:\n",
    "    plt.scatter(x = i, y = list_with_values[i], s = 50, color = 'g', linewidths=2, edgecolors='black')"
   ]
  },
  {
   "cell_type": "code",
   "execution_count": 16,
   "metadata": {},
   "outputs": [],
   "source": [
    "X = list(list_with_values.keys())\n",
    "y = list(list_with_values.values())\n",
    "X = np.array(X).reshape((-1, 1))\n",
    "y = np.array(y)"
   ]
  },
  {
   "cell_type": "code",
   "execution_count": 17,
   "metadata": {},
   "outputs": [
    {
     "name": "stdout",
     "output_type": "stream",
     "text": [
      "Точність моделі складає 0.7280722564251643\n"
     ]
    }
   ],
   "source": [
    "model = LinearRegression()\n",
    "model.fit(X, y)\n",
    "print(f'Точність моделі складає {model.score(X, y)}')"
   ]
  },
  {
   "cell_type": "code",
   "execution_count": 18,
   "metadata": {},
   "outputs": [
    {
     "name": "stdout",
     "output_type": "stream",
     "text": [
      "Лінія регресії: у = 0.09114996047430834x + 24.672239797979802\n"
     ]
    }
   ],
   "source": [
    "k, b = model.coef_, model.intercept_\n",
    "print(f'Лінія регресії: у = {float(k)}x + {b}')"
   ]
  },
  {
   "cell_type": "code",
   "execution_count": 19,
   "metadata": {},
   "outputs": [
    {
     "data": {
      "image/png": "[encoded data removed]",
      "text/plain": [
       "<Figure size 432x288 with 1 Axes>"
      ]
     },
     "metadata": {
      "needs_background": "light"
     },
     "output_type": "display_data"
    }
   ],
   "source": [
    "ax = plt.subplot()\n",
    "ax.set_xlabel('Value of Mondays', fontsize = 15)\n",
    "ax.set_ylabel('Rate', fontsize = 15)\n",
    "\n",
    "x = np.linspace(0, 45, 2)\n",
    "plt.plot(x, k*x + b, 'r', linewidth=3)\n",
    "plt.grid()\n",
    "for i in list_with_values:\n",
    "    plt.scatter(x = i, y = list_with_values[i], s = 50, color = 'g', linewidths=2, edgecolors='black')"
   ]
  }
 ],
 "metadata": {
  "kernelspec": {
   "display_name": "Python 3",
   "language": "python",
   "name": "python3"
  },
  "language_info": {
   "codemirror_mode": {
    "name": "ipython",
    "version": 3
   },
   "file_extension": ".py",
   "mimetype": "text/x-python",
   "name": "python",
   "nbconvert_exporter": "python",
   "pygments_lexer": "ipython3",
   "version": "3.7.6"
  }
 },
 "nbformat": 4,
 "nbformat_minor": 4
}
